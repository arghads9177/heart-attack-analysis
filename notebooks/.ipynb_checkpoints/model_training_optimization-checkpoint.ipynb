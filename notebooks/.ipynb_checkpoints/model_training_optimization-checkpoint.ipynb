{
 "cells": [
  {
   "cell_type": "markdown",
   "id": "6da26d63-f416-4cb1-b1ea-97c0ec76f445",
   "metadata": {},
   "source": [
    "# Heart Attack Analysis and Prediction\n",
    "\n",
    "## About Dataset\n",
    "\n",
    "This dataset contains medical data of different patients having various health inicators using which we can analyze and predict the risk of heart attacks more accurately.\n",
    "\n",
    "## Source\n",
    "\n",
    "This dataset is present in Kaggle in the following link:\n",
    "> https://www.kaggle.com/datasets/rashikrahmanpritom/heart-attack-analysis-prediction-dataset\n",
    "\n",
    "## Data Dictionary\n",
    "\n",
    "The dataset includes the following features:\n",
    "\n",
    "- **Age**: Age of the patient.\n",
    "- **Sex**: Sex of the patient\n",
    "- **cp**: Chest pain type\n",
    "  - Value 1: Typical angina\n",
    "  - Value 2: Atypical angina\n",
    "  - Value 3: Non-anginal pain\n",
    "  - Value 4: Asymptomatic\n",
    "- **trtbps**: Resting blood pressure (in mm Hg)\n",
    "- **chol**: Cholesterol in mg/dl fetched via BMI sensor\n",
    "- **fbs**: Fasting blood sugar > 120 mg/dl (1 = true; 0 = false)\n",
    "- **rest_ecg**: Resting electrocardiographic results\n",
    "  - Value 0: Normal\n",
    "  - Value 1: Having ST-T wave abnormality (T wave inversions and/or ST elevation or depression of > 0.05 mV)\n",
    "  - Value 2: Showing probable or definite left ventricular hypertrophy by Estes' criteria\n",
    "- **thalachh**: Maximum heart rate achieved\n",
    "- **exng**: Exercise-induced angina (1 = yes; 0 = no)\n",
    "- **oldpeak**: Numeric Data. This represents ST depression induced by exercise relative to rest for the patients.\n",
    "- **slp**: This represents the slope of the peak exercise ST segment for the patients. Values are 0,1 and 2.\n",
    "- **caa**: Number of major vessels (0-3)\n",
    "- **thal**: Categorical Data. The thalassemia level in blood of patients. Values are 0, 1, 2 and 3.\n",
    "- **output**: Heart attack risk indicator (0 = less chance of heart attack, 1 = more chance of heart attack)\n",
    "\n",
    "## Problem Statements\n",
    "\n",
    "1. **Model Training**: The objective of model training is to train the model with this data.\n",
    "2. **Model Evaluation**: Evaluate the performance of the model with different metrics such as accuracy, precision, recall and f1 score."
   ]
  },
  {
   "cell_type": "markdown",
   "id": "6cf6eeaa-10ad-40b2-ac77-5326c76ca9aa",
   "metadata": {},
   "source": [
    "### Load Libraries"
   ]
  },
  {
   "cell_type": "code",
   "execution_count": 19,
   "id": "7f0d4008-242a-4f9c-a354-ad8c05b97a0f",
   "metadata": {},
   "outputs": [],
   "source": [
    "# General Libraries\n",
    "import pandas as pd\n",
    "import numpy as np\n",
    "import os\n",
    "import warnings\n",
    "\n",
    "# Preprocessing\n",
    "from sklearn.preprocessing import StandardScaler\n",
    "from sklearn.model_selection import train_test_split\n",
    "\n",
    "# Model\n",
    "from sklearn.tree import DecisionTreeClassifier\n",
    "\n",
    "# Evaluation\n",
    "from sklearn.metrics import accuracy_score, precision_score, recall_score, f1_score"
   ]
  },
  {
   "cell_type": "markdown",
   "id": "7ac75e45-b977-4214-bf5f-d5173bf06dcb",
   "metadata": {},
   "source": [
    "### Settings"
   ]
  },
  {
   "cell_type": "code",
   "execution_count": 3,
   "id": "9b3f6a09-4ae5-4d1c-b399-e29a909e6d09",
   "metadata": {},
   "outputs": [],
   "source": [
    "# Warning\n",
    "warnings.filterwarnings(\"ignore\")\n",
    "\n",
    "# Path\n",
    "data_path = \"../data\"\n",
    "csv_path = os.path.join(data_path, \"heart_wo.csv\")"
   ]
  },
  {
   "cell_type": "markdown",
   "id": "292b2986-1ff2-459a-912f-0b6f96b4d1f1",
   "metadata": {},
   "source": [
    "### Load Data"
   ]
  },
  {
   "cell_type": "code",
   "execution_count": 6,
   "id": "3cceb783-7bba-46e9-8fb0-c3a5dc76eb49",
   "metadata": {},
   "outputs": [],
   "source": [
    "df = pd.read_csv(csv_path)"
   ]
  },
  {
   "cell_type": "code",
   "execution_count": 7,
   "id": "72d776de-0faf-45d0-b5bd-83c001391130",
   "metadata": {},
   "outputs": [
    {
     "data": {
      "text/html": [
       "<div>\n",
       "<style scoped>\n",
       "    .dataframe tbody tr th:only-of-type {\n",
       "        vertical-align: middle;\n",
       "    }\n",
       "\n",
       "    .dataframe tbody tr th {\n",
       "        vertical-align: top;\n",
       "    }\n",
       "\n",
       "    .dataframe thead th {\n",
       "        text-align: right;\n",
       "    }\n",
       "</style>\n",
       "<table border=\"1\" class=\"dataframe\">\n",
       "  <thead>\n",
       "    <tr style=\"text-align: right;\">\n",
       "      <th></th>\n",
       "      <th>age</th>\n",
       "      <th>sex</th>\n",
       "      <th>cp</th>\n",
       "      <th>trtbps</th>\n",
       "      <th>chol</th>\n",
       "      <th>fbs</th>\n",
       "      <th>restecg</th>\n",
       "      <th>thalachh</th>\n",
       "      <th>exng</th>\n",
       "      <th>oldpeak</th>\n",
       "      <th>slp</th>\n",
       "      <th>caa</th>\n",
       "      <th>thall</th>\n",
       "      <th>output</th>\n",
       "    </tr>\n",
       "  </thead>\n",
       "  <tbody>\n",
       "    <tr>\n",
       "      <th>0</th>\n",
       "      <td>63</td>\n",
       "      <td>1</td>\n",
       "      <td>3</td>\n",
       "      <td>145</td>\n",
       "      <td>233</td>\n",
       "      <td>1</td>\n",
       "      <td>0</td>\n",
       "      <td>150</td>\n",
       "      <td>0</td>\n",
       "      <td>2.3</td>\n",
       "      <td>0</td>\n",
       "      <td>0</td>\n",
       "      <td>1</td>\n",
       "      <td>1</td>\n",
       "    </tr>\n",
       "    <tr>\n",
       "      <th>1</th>\n",
       "      <td>41</td>\n",
       "      <td>0</td>\n",
       "      <td>1</td>\n",
       "      <td>130</td>\n",
       "      <td>204</td>\n",
       "      <td>0</td>\n",
       "      <td>0</td>\n",
       "      <td>172</td>\n",
       "      <td>0</td>\n",
       "      <td>1.4</td>\n",
       "      <td>2</td>\n",
       "      <td>0</td>\n",
       "      <td>2</td>\n",
       "      <td>1</td>\n",
       "    </tr>\n",
       "    <tr>\n",
       "      <th>2</th>\n",
       "      <td>56</td>\n",
       "      <td>1</td>\n",
       "      <td>1</td>\n",
       "      <td>120</td>\n",
       "      <td>236</td>\n",
       "      <td>0</td>\n",
       "      <td>1</td>\n",
       "      <td>178</td>\n",
       "      <td>0</td>\n",
       "      <td>0.8</td>\n",
       "      <td>2</td>\n",
       "      <td>0</td>\n",
       "      <td>2</td>\n",
       "      <td>1</td>\n",
       "    </tr>\n",
       "    <tr>\n",
       "      <th>3</th>\n",
       "      <td>57</td>\n",
       "      <td>0</td>\n",
       "      <td>0</td>\n",
       "      <td>120</td>\n",
       "      <td>354</td>\n",
       "      <td>0</td>\n",
       "      <td>1</td>\n",
       "      <td>163</td>\n",
       "      <td>1</td>\n",
       "      <td>0.6</td>\n",
       "      <td>2</td>\n",
       "      <td>0</td>\n",
       "      <td>2</td>\n",
       "      <td>1</td>\n",
       "    </tr>\n",
       "    <tr>\n",
       "      <th>4</th>\n",
       "      <td>57</td>\n",
       "      <td>1</td>\n",
       "      <td>0</td>\n",
       "      <td>140</td>\n",
       "      <td>192</td>\n",
       "      <td>0</td>\n",
       "      <td>1</td>\n",
       "      <td>148</td>\n",
       "      <td>0</td>\n",
       "      <td>0.4</td>\n",
       "      <td>1</td>\n",
       "      <td>0</td>\n",
       "      <td>1</td>\n",
       "      <td>1</td>\n",
       "    </tr>\n",
       "  </tbody>\n",
       "</table>\n",
       "</div>"
      ],
      "text/plain": [
       "   age  sex  cp  trtbps  chol  fbs  restecg  thalachh  exng  oldpeak  slp  \\\n",
       "0   63    1   3     145   233    1        0       150     0      2.3    0   \n",
       "1   41    0   1     130   204    0        0       172     0      1.4    2   \n",
       "2   56    1   1     120   236    0        1       178     0      0.8    2   \n",
       "3   57    0   0     120   354    0        1       163     1      0.6    2   \n",
       "4   57    1   0     140   192    0        1       148     0      0.4    1   \n",
       "\n",
       "   caa  thall  output  \n",
       "0    0      1       1  \n",
       "1    0      2       1  \n",
       "2    0      2       1  \n",
       "3    0      2       1  \n",
       "4    0      1       1  "
      ]
     },
     "execution_count": 7,
     "metadata": {},
     "output_type": "execute_result"
    }
   ],
   "source": [
    "df.head()"
   ]
  },
  {
   "cell_type": "markdown",
   "id": "ad8a8e13-d1ad-486d-85aa-d1603a296a75",
   "metadata": {},
   "source": [
    "### Data Preparation for Training"
   ]
  },
  {
   "cell_type": "code",
   "execution_count": 10,
   "id": "e8997131-dfb7-47df-b49e-8d81e6ae1b99",
   "metadata": {},
   "outputs": [],
   "source": [
    "# Separate the input and output features\n",
    "X = df.iloc[:, : -1]\n",
    "y = df.iloc[:, -1]"
   ]
  },
  {
   "cell_type": "code",
   "execution_count": 11,
   "id": "0be0746f-184b-4f2c-b1e2-042d1b64c36d",
   "metadata": {},
   "outputs": [],
   "source": [
    "# Split Training and testing data\n",
    "X_train, X_test, y_train, y_test = train_test_split(X, y, test_size= 0.2, random_state= 42)"
   ]
  },
  {
   "cell_type": "code",
   "execution_count": 20,
   "id": "d0bf5452-7f34-4ed9-81aa-a932b121eb2d",
   "metadata": {},
   "outputs": [],
   "source": [
    "# Scale the data\n",
    "scaler = StandardScaler()\n",
    "X_train_s = scaler.fit_transform(X_train)\n",
    "X_test_s = scaler.transform(X_test)"
   ]
  },
  {
   "cell_type": "code",
   "execution_count": 21,
   "id": "befcd50f-0ff2-4ca3-ae64-e30a6d9a19c8",
   "metadata": {},
   "outputs": [],
   "source": [
    "# Train a model and evaluate\n",
    "def train_evaluate(model):\n",
    "    # Train the model\n",
    "    model.fit(X_train_s, y_train)\n",
    "\n",
    "    # Predict Train\n",
    "    y_train_pred = model.predict(X_train_s)\n",
    "    # Predict test\n",
    "    y_test_pred = model.predict(X_test_s)\n",
    "\n",
    "    # Print evaluation metrics for train\n",
    "    print(\"Tarining Scores\")\n",
    "    print(f\"Accuracy: {accuracy_score(y_train, y_train_pred): .2f}\")\n",
    "    print(f\"Precision: {precision_score(y_train, y_train_pred): .2f}\")\n",
    "    print(f\"Recall: {recall_score(y_train, y_train_pred): .2f}\")\n",
    "    print(f\"F1: {f1_score(y_train, y_train_pred): .2f}\")\n",
    "    # Print evaluation metrics for test\n",
    "    print(\"Testing Scores\")\n",
    "    print(f\"Accuracy: {accuracy_score(y_test, y_test_pred): .2f}\")\n",
    "    print(f\"Precision: {precision_score(y_test, y_test_pred): .2f}\")\n",
    "    print(f\"Recall: {recall_score(y_test, y_test_pred): .2f}\")\n",
    "    print(f\"F1: {f1_score(y_test, y_test_pred): .2f}\")"
   ]
  },
  {
   "cell_type": "code",
   "execution_count": 24,
   "id": "c58b3693-4f84-447e-ae42-ae6144d8170c",
   "metadata": {},
   "outputs": [
    {
     "name": "stdout",
     "output_type": "stream",
     "text": [
      "Tarining Scores\n",
      "Accuracy:  1.00\n",
      "Precision:  1.00\n",
      "Recall:  1.00\n",
      "F1:  1.00\n",
      "Testing Scores\n",
      "Accuracy:  0.64\n",
      "Precision:  0.68\n",
      "Recall:  0.76\n",
      "F1:  0.71\n"
     ]
    }
   ],
   "source": [
    "model = DecisionTreeClassifier()\n",
    "train_evaluate(model)"
   ]
  },
  {
   "cell_type": "code",
   "execution_count": null,
   "id": "96ffcfe9-889b-4295-a9f0-ed452ee9d104",
   "metadata": {},
   "outputs": [],
   "source": []
  }
 ],
 "metadata": {
  "kernelspec": {
   "display_name": "Python 3 (ipykernel)",
   "language": "python",
   "name": "python3"
  },
  "language_info": {
   "codemirror_mode": {
    "name": "ipython",
    "version": 3
   },
   "file_extension": ".py",
   "mimetype": "text/x-python",
   "name": "python",
   "nbconvert_exporter": "python",
   "pygments_lexer": "ipython3",
   "version": "3.11.9"
  }
 },
 "nbformat": 4,
 "nbformat_minor": 5
}
